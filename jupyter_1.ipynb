{
 "cells": [
  {
   "cell_type": "code",
   "execution_count": 50,
   "metadata": {},
   "outputs": [],
   "source": [
    "## Consumer behavoir analysis\n"
   ]
  },
  {
   "cell_type": "code",
   "execution_count": 51,
   "metadata": {},
   "outputs": [],
   "source": [
    "import pandas as pd \n",
    "\n",
    "data = pd.read_csv(\"shopping_behavior_updated.csv\")\n",
    "\n"
   ]
  },
  {
   "cell_type": "code",
   "execution_count": 52,
   "metadata": {},
   "outputs": [
    {
     "name": "stdout",
     "output_type": "stream",
     "text": [
      "<class 'pandas.core.frame.DataFrame'>\n",
      "RangeIndex: 3900 entries, 0 to 3899\n",
      "Data columns (total 18 columns):\n",
      " #   Column                  Non-Null Count  Dtype  \n",
      "---  ------                  --------------  -----  \n",
      " 0   Customer ID             3900 non-null   int64  \n",
      " 1   Age                     3900 non-null   int64  \n",
      " 2   Gender                  3900 non-null   object \n",
      " 3   Item Purchased          3900 non-null   object \n",
      " 4   Category                3900 non-null   object \n",
      " 5   Purchase Amount (USD)   3900 non-null   int64  \n",
      " 6   Location                3900 non-null   object \n",
      " 7   Size                    3900 non-null   object \n",
      " 8   Color                   3900 non-null   object \n",
      " 9   Season                  3900 non-null   object \n",
      " 10  Review Rating           3900 non-null   float64\n",
      " 11  Subscription Status     3900 non-null   object \n",
      " 12  Shipping Type           3900 non-null   object \n",
      " 13  Discount Applied        3900 non-null   object \n",
      " 14  Promo Code Used         3900 non-null   object \n",
      " 15  Previous Purchases      3900 non-null   int64  \n",
      " 16  Payment Method          3900 non-null   object \n",
      " 17  Frequency of Purchases  3900 non-null   object \n",
      "dtypes: float64(1), int64(4), object(13)\n",
      "memory usage: 548.6+ KB\n",
      "None\n",
      "Customer ID               0\n",
      "Age                       0\n",
      "Gender                    0\n",
      "Item Purchased            0\n",
      "Category                  0\n",
      "Purchase Amount (USD)     0\n",
      "Location                  0\n",
      "Size                      0\n",
      "Color                     0\n",
      "Season                    0\n",
      "Review Rating             0\n",
      "Subscription Status       0\n",
      "Shipping Type             0\n",
      "Discount Applied          0\n",
      "Promo Code Used           0\n",
      "Previous Purchases        0\n",
      "Payment Method            0\n",
      "Frequency of Purchases    0\n",
      "dtype: int64\n"
     ]
    },
    {
     "data": {
      "text/plain": [
       "array(['Clothing', 'Footwear', 'Outerwear', 'Accessories'], dtype=object)"
      ]
     },
     "execution_count": 52,
     "metadata": {},
     "output_type": "execute_result"
    }
   ],
   "source": [
    "#Exploring the data\n",
    "\n",
    "print(data.info())\n",
    "# To see if there are any null values in the dataset\n",
    "print(data.isnull().sum())\n",
    "\n",
    "data.columns = data.columns.str.lower().str.replace(\" \", \"_\")\n",
    "\n",
    "\n",
    "data[\"frequency_of_purchases\"].unique()\n",
    "#As for the column Frequency of Purchases we have duplicates values like biweekly and Fortnightly means every two weeks.\n",
    "# Update all instances of \"Fortnightly' in 'Frequency of Purchases' to 'Bi-Weekly' and 'Every 3 Months' to 'Quarterly'\n",
    "data[\"frequency_of_purchases\"] = data[\"frequency_of_purchases\"].replace({\n",
    "    \"Fortnightly\": \"Bi-Weekly\",\n",
    "    \"Every 3 Months\": \"Quarterly\"\n",
    "})\n",
    "data = data.rename(columns={\n",
    "    \"category\": \"product_category\"\n",
    "    \n",
    "})\n",
    "data[\"product_category\"].unique()\n"
   ]
  },
  {
   "cell_type": "code",
   "execution_count": 53,
   "metadata": {},
   "outputs": [
    {
     "name": "stdout",
     "output_type": "stream",
     "text": [
      "<class 'pandas.core.frame.DataFrame'>\n",
      "RangeIndex: 3900 entries, 0 to 3899\n",
      "Data columns (total 18 columns):\n",
      " #   Column                  Non-Null Count  Dtype  \n",
      "---  ------                  --------------  -----  \n",
      " 0   customer_id             3900 non-null   int64  \n",
      " 1   age                     3900 non-null   int64  \n",
      " 2   gender                  3900 non-null   object \n",
      " 3   item_purchased          3900 non-null   object \n",
      " 4   product_category        3900 non-null   object \n",
      " 5   purchase_amount_(usd)   3900 non-null   int64  \n",
      " 6   location                3900 non-null   object \n",
      " 7   size                    3900 non-null   object \n",
      " 8   color                   3900 non-null   object \n",
      " 9   season                  3900 non-null   object \n",
      " 10  review_rating           3900 non-null   float64\n",
      " 11  subscription_status     3900 non-null   object \n",
      " 12  shipping_type           3900 non-null   object \n",
      " 13  discount_applied        3900 non-null   object \n",
      " 14  promo_code_used         3900 non-null   object \n",
      " 15  previous_purchases      3900 non-null   int64  \n",
      " 16  payment_method          3900 non-null   object \n",
      " 17  frequency_of_purchases  3900 non-null   object \n",
      "dtypes: float64(1), int64(4), object(13)\n",
      "memory usage: 548.6+ KB\n",
      "None\n"
     ]
    }
   ],
   "source": [
    "# dropping missing values\n",
    "data = data.dropna() \n",
    "print(data.info())\n"
   ]
  },
  {
   "cell_type": "code",
   "execution_count": 54,
   "metadata": {},
   "outputs": [
    {
     "name": "stdout",
     "output_type": "stream",
     "text": [
      "<class 'pandas.core.frame.DataFrame'>\n",
      "RangeIndex: 3900 entries, 0 to 3899\n",
      "Data columns (total 18 columns):\n",
      " #   Column                  Non-Null Count  Dtype   \n",
      "---  ------                  --------------  -----   \n",
      " 0   customer_id             3900 non-null   int64   \n",
      " 1   age                     3900 non-null   int64   \n",
      " 2   gender                  3900 non-null   category\n",
      " 3   item_purchased          3900 non-null   string  \n",
      " 4   product_category        3900 non-null   category\n",
      " 5   purchase_amount_(usd)   3900 non-null   int64   \n",
      " 6   location                3900 non-null   string  \n",
      " 7   size                    3900 non-null   category\n",
      " 8   color                   3900 non-null   string  \n",
      " 9   season                  3900 non-null   category\n",
      " 10  review_rating           3900 non-null   float64 \n",
      " 11  subscription_status     3900 non-null   object  \n",
      " 12  shipping_type           3900 non-null   category\n",
      " 13  discount_applied        3900 non-null   object  \n",
      " 14  promo_code_used         3900 non-null   object  \n",
      " 15  previous_purchases      3900 non-null   int64   \n",
      " 16  payment_method          3900 non-null   category\n",
      " 17  frequency_of_purchases  3900 non-null   category\n",
      "dtypes: category(7), float64(1), int64(4), object(3), string(3)\n",
      "memory usage: 363.3+ KB\n"
     ]
    }
   ],
   "source": [
    "\n",
    "\n",
    "\n",
    "#channging data types of columns for better accessability\n",
    "catergorical_columns = [\"gender\", \"product_category\", \"size\", \"season\", \"shipping_type\",\"payment_method\", \"frequency_of_purchases\"]\n",
    "data[catergorical_columns] = data[catergorical_columns].astype(\"category\")\n",
    "\n",
    "#channging data types of columns for better accessability\n",
    "string_columns = [\"item_purchased\", \"location\", \"color\"]\n",
    "data[string_columns] = data[string_columns].astype(\"string\")\n",
    "data.info()\n"
   ]
  },
  {
   "cell_type": "code",
   "execution_count": 55,
   "metadata": {},
   "outputs": [],
   "source": [
    "data.to_csv('cleaned_shopping_behavior.csv', index=False)\n"
   ]
  }
 ],
 "metadata": {
  "kernelspec": {
   "display_name": "Python 3",
   "language": "python",
   "name": "python3"
  },
  "language_info": {
   "codemirror_mode": {
    "name": "ipython",
    "version": 3
   },
   "file_extension": ".py",
   "mimetype": "text/x-python",
   "name": "python",
   "nbconvert_exporter": "python",
   "pygments_lexer": "ipython3",
   "version": "3.11.8"
  }
 },
 "nbformat": 4,
 "nbformat_minor": 2
}
